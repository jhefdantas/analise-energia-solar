{
 "cells": [
  {
   "cell_type": "code",
   "execution_count": 26,
   "metadata": {},
   "outputs": [
    {
     "name": "stdout",
     "output_type": "stream",
     "text": [
      "   ID USINA                  NOME                         PORTAL  \\\n",
      "0    231164         Açaí Gostosão  Growatt OSS Management System   \n",
      "1    262966           Afya Marabá         Sungrow - iSolarClound   \n",
      "2    162157             Agromilho         Sungrow - iSolarClound   \n",
      "3    282364  Aluminio Santa Maria  Growatt OSS Management System   \n",
      "4     44730            Andrezinho        APsystems - Apsysemsema   \n",
      "\n",
      "            JAN           FEV           MAR           ABR           MAI  \\\n",
      "0   1681.390567   1463.121490   1777.175962   1767.420192   1899.236894   \n",
      "1  25390.886770  22094.778460  26837.353850  26690.030770  28680.611080   \n",
      "2   3398.885901   2957.660821   3592.513504   3572.792479   3839.256403   \n",
      "3   9964.915482   8671.323769  10532.596410  10474.777950  11256.001730   \n",
      "4    277.083090    241.113654    292.867949    291.260256    312.982859   \n",
      "\n",
      "            JUN           JUL         AGO           SET           OUT  \\\n",
      "0   1996.160462   2191.958750   2336.1165   2354.343529   2385.952221   \n",
      "1  30144.265850  33101.040000  35277.9840  35553.232620  36030.559380   \n",
      "2   4035.184793   4430.985778   4722.3968   4759.242250   4823.138373   \n",
      "3  11830.428140  12990.844670  13845.2088  13953.232960  14140.564770   \n",
      "4    328.955282    361.221667    384.9780    387.981705    393.190628   \n",
      "\n",
      "            NOV           DEZ GERACAO      KWP ORIENTACAO       TELHADO  \n",
      "0   2100.124442   1984.193385    PREV   20.025          L  FIBROCIMENTO  \n",
      "1  31714.238770  29963.549540    PREV  302.400        NaN           NaN  \n",
      "2   4245.345190   4010.993668    PREV   40.480        L/O      METÁLICO  \n",
      "3  12446.580220  11759.504160    PREV  118.680        L/O      METÁLICO  \n",
      "4    346.087923    326.983180    PREV    3.300        N/S  FIBROCIMENTO  \n"
     ]
    }
   ],
   "source": [
    "import pandas as pd\n",
    "\n",
    "# Ler arquivo\n",
    "df = pd.read_excel('base_dantas.xlsx')\n",
    "\n",
    "# Imprime as primeiras linhas para verificar\n",
    "print(df.head())\n"
   ]
  },
  {
   "cell_type": "code",
   "execution_count": 28,
   "metadata": {},
   "outputs": [
    {
     "name": "stderr",
     "output_type": "stream",
     "text": [
      "/tmp/ipykernel_65834/2636139542.py:10: FutureWarning: A value is trying to be set on a copy of a DataFrame or Series through chained assignment using an inplace method.\n",
      "The behavior will change in pandas 3.0. This inplace method will never work because the intermediate object on which we are setting values always behaves as a copy.\n",
      "\n",
      "For example, when doing 'df[col].method(value, inplace=True)', try using 'df.method({col: value}, inplace=True)' or df[col] = df[col].method(value) instead, to perform the operation inplace on the original object.\n",
      "\n",
      "\n",
      "  grupo[coluna].fillna(grupo.loc[primeiro_valor_valido, coluna], inplace=True)\n",
      "/tmp/ipykernel_65834/2636139542.py:18: DeprecationWarning: DataFrameGroupBy.apply operated on the grouping columns. This behavior is deprecated, and in a future version of pandas the grouping columns will be excluded from the operation. Either pass `include_groups=False` to exclude the groupings or explicitly select the grouping columns after groupby to silence this warning.\n",
      "  df = df.groupby('ID USINA').apply(preencher_valores_faltantes).reset_index(drop=True)\n"
     ]
    },
    {
     "name": "stdout",
     "output_type": "stream",
     "text": [
      "   ID USINA          NOME                   PORTAL          JAN          FEV  \\\n",
      "0     39388  Hotel Accord                SolarView  2687.200000  2186.800000   \n",
      "1     39388  Hotel Accord                SolarView  2532.500000  2551.400000   \n",
      "2     39388  Hotel Accord                SolarView  2448.406938  2130.567923   \n",
      "3     44729       Jandiro  APsystems - Apsysemsema   827.800000   689.310000   \n",
      "4     44729       Jandiro  APsystems - Apsysemsema   741.130000   742.970000   \n",
      "\n",
      "           MAR          ABR          MAI          JUN       JUL        AGO  \\\n",
      "0  2296.400000  2548.300000  2382.000000  2288.900000  2500.700  2866.2000   \n",
      "1  2375.100000  2092.700000  2280.600000  2545.000000  2608.000  3054.8000   \n",
      "2  2587.887692  2573.681538  2765.630354  2906.768492  3191.886  3401.8056   \n",
      "3   760.650000   786.930000   788.790000   774.550000   879.790   951.8600   \n",
      "4   711.910000   636.590000   711.080000   829.050000   832.040   893.6900   \n",
      "\n",
      "           SET          OUT          NOV          DEZ GERACAO    KWP  \\\n",
      "0  2914.200000  3321.600000  2963.100000  2805.100000    2021  29.16   \n",
      "1  3391.800000  3258.200000  2896.500000  2849.200000    2022  29.16   \n",
      "2  3428.347431  3474.375369  3058.158738  2889.342277    PREV  29.16   \n",
      "3   844.400000   858.210000   862.970000   776.490000    2021   7.10   \n",
      "4   942.450000   910.000000   812.320000   831.130000    2022   7.10   \n",
      "\n",
      "  ORIENTACAO         TELHADO  \n",
      "0          S  ESTACIONAMENTO  \n",
      "1          S  ESTACIONAMENTO  \n",
      "2          S  ESTACIONAMENTO  \n",
      "3        NaN             NaN  \n",
      "4        NaN             NaN  \n"
     ]
    }
   ],
   "source": [
    "import pandas as pd\n",
    "\n",
    "def preencher_valores_faltantes(grupo):\n",
    "    # Para cada coluna:\n",
    "    for coluna in ['ORIENTACAO', 'KWP', 'TELHADO']:\n",
    "        # Encontra o primeiro valor válido na coluna\n",
    "        primeiro_valor_valido = grupo[coluna].first_valid_index()\n",
    "        if primeiro_valor_valido is not None:\n",
    "            # Preenche os valores faltantes com o valor do primeiro valor válido encontrado no grupo\n",
    "            grupo[coluna].fillna(grupo.loc[primeiro_valor_valido, coluna], inplace=True)\n",
    "    return grupo\n",
    "\n",
    "def replicar_potencia(df):\n",
    "    # Primeiro, vamos garantir que o DataFrame esteja ordenado pelo ID da usina e pela Geração\n",
    "    df.sort_values(by=['ID USINA', 'GERACAO'], inplace=True)\n",
    "    \n",
    "    # Agora, vamos preencher os valores faltantes para cada grupo de ID USINA\n",
    "    df = df.groupby('ID USINA').apply(preencher_valores_faltantes).reset_index(drop=True)\n",
    "    \n",
    "    return df\n",
    "\n",
    "# 'df' é o DataFrame\n",
    "df = replicar_potencia(df)\n",
    "\n",
    "# Imprime as primeiras linhas após a replicação\n",
    "print(df.head())\n",
    "\n",
    "# Criar um novo arquivo (.csv) com os dados atualizados\n",
    "df.to_csv('data_atualizado.csv', index=False)\n"
   ]
  },
  {
   "cell_type": "code",
   "execution_count": 29,
   "metadata": {},
   "outputs": [],
   "source": [
    "# Criar um novo arquivo (.xlsx) com os dados atualizados\n",
    "df.to_excel('data_atualizado.xlsx', index=False)\n"
   ]
  }
 ],
 "metadata": {
  "kernelspec": {
   "display_name": "Python 3",
   "language": "python",
   "name": "python3"
  },
  "language_info": {
   "codemirror_mode": {
    "name": "ipython",
    "version": 3
   },
   "file_extension": ".py",
   "mimetype": "text/x-python",
   "name": "python",
   "nbconvert_exporter": "python",
   "pygments_lexer": "ipython3",
   "version": "3.11.2"
  }
 },
 "nbformat": 4,
 "nbformat_minor": 2
}
